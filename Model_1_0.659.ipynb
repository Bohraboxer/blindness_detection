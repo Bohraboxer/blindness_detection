{
 "cells": [
  {
   "cell_type": "code",
   "execution_count": 1,
   "metadata": {
    "_cell_guid": "b1076dfc-b9ad-4769-8c92-a6c4dae69d19",
    "_uuid": "8f2839f25d086af736a60e9eeb907d3b93b6e0e5"
   },
   "outputs": [
    {
     "name": "stdout",
     "output_type": "stream",
     "text": [
      "['aptos2019-blindness-detection', 'models-pretrained-weights']\n"
     ]
    }
   ],
   "source": [
    "# This Python 3 environment comes with many helpful analytics libraries installed\n",
    "# It is defined by the kaggle/python docker image: https://github.com/kaggle/docker-python\n",
    "# For example, here's several helpful packages to load in \n",
    "\n",
    "import numpy as np # linear algebra\n",
    "import pandas as pd # data processing, CSV file I/O (e.g. pd.read_csv)\n",
    "\n",
    "# Input data files are available in the \"../input/\" directory.\n",
    "# For example, running this (by clicking run or pressing Shift+Enter) will list the files in the input directory\n",
    "\n",
    "import os\n",
    "print(os.listdir(\"../input\"))\n",
    "\n",
    "# Any results you write to the current directory are saved as output."
   ]
  },
  {
   "cell_type": "code",
   "execution_count": 2,
   "metadata": {
    "_cell_guid": "79c7e3d0-c299-4dcb-8224-4455121ee9b0",
    "_uuid": "d629ff2d2480ee46fbb7e2d37f6b5fab8052498a"
   },
   "outputs": [],
   "source": [
    "import numpy as np\n",
    "import pandas as pd\n",
    "import matplotlib.pyplot as plt"
   ]
  },
  {
   "cell_type": "code",
   "execution_count": 3,
   "metadata": {},
   "outputs": [],
   "source": [
    "train=pd.read_csv(\"../input/aptos2019-blindness-detection/train.csv\")\n",
    "test=pd.read_csv(\"../input/aptos2019-blindness-detection/test.csv\")"
   ]
  },
  {
   "cell_type": "code",
   "execution_count": 4,
   "metadata": {},
   "outputs": [
    {
     "data": {
      "text/plain": [
       "0    1805\n",
       "2     999\n",
       "1     370\n",
       "4     295\n",
       "3     193\n",
       "Name: diagnosis, dtype: int64"
      ]
     },
     "execution_count": 4,
     "metadata": {},
     "output_type": "execute_result"
    },
    {
     "data": {
      "image/png": "[encoded data removed]",
      "text/plain": [
       "<Figure size 432x288 with 1 Axes>"
      ]
     },
     "metadata": {
      "needs_background": "light"
     },
     "output_type": "display_data"
    }
   ],
   "source": [
    "train['diagnosis'].hist()\n",
    "train['diagnosis'].value_counts()"
   ]
  },
  {
   "cell_type": "code",
   "execution_count": 5,
   "metadata": {},
   "outputs": [],
   "source": [
    "import cv2\n",
    "import os\n",
    "import scipy\n",
    "from tqdm import tqdm\n",
    "from PIL import Image"
   ]
  },
  {
   "cell_type": "code",
   "execution_count": 6,
   "metadata": {},
   "outputs": [
    {
     "data": {
      "text/html": [
       "<div>\n",
       "<style scoped>\n",
       "    .dataframe tbody tr th:only-of-type {\n",
       "        vertical-align: middle;\n",
       "    }\n",
       "\n",
       "    .dataframe tbody tr th {\n",
       "        vertical-align: top;\n",
       "    }\n",
       "\n",
       "    .dataframe thead th {\n",
       "        text-align: right;\n",
       "    }\n",
       "</style>\n",
       "<table border=\"1\" class=\"dataframe\">\n",
       "  <thead>\n",
       "    <tr style=\"text-align: right;\">\n",
       "      <th></th>\n",
       "      <th>id_code</th>\n",
       "      <th>diagnosis</th>\n",
       "    </tr>\n",
       "  </thead>\n",
       "  <tbody>\n",
       "    <tr>\n",
       "      <th>0</th>\n",
       "      <td>000c1434d8d7.png</td>\n",
       "      <td>2</td>\n",
       "    </tr>\n",
       "    <tr>\n",
       "      <th>1</th>\n",
       "      <td>001639a390f0.png</td>\n",
       "      <td>4</td>\n",
       "    </tr>\n",
       "    <tr>\n",
       "      <th>2</th>\n",
       "      <td>0024cdab0c1e.png</td>\n",
       "      <td>1</td>\n",
       "    </tr>\n",
       "    <tr>\n",
       "      <th>3</th>\n",
       "      <td>002c21358ce6.png</td>\n",
       "      <td>0</td>\n",
       "    </tr>\n",
       "    <tr>\n",
       "      <th>4</th>\n",
       "      <td>005b95c28852.png</td>\n",
       "      <td>0</td>\n",
       "    </tr>\n",
       "  </tbody>\n",
       "</table>\n",
       "</div>"
      ],
      "text/plain": [
       "            id_code diagnosis\n",
       "0  000c1434d8d7.png         2\n",
       "1  001639a390f0.png         4\n",
       "2  0024cdab0c1e.png         1\n",
       "3  002c21358ce6.png         0\n",
       "4  005b95c28852.png         0"
      ]
     },
     "execution_count": 6,
     "metadata": {},
     "output_type": "execute_result"
    }
   ],
   "source": [
    "# Preprocecss data\n",
    "train[\"id_code\"] = train[\"id_code\"].apply(lambda x: x + \".png\")\n",
    "test[\"id_code\"] = test[\"id_code\"].apply(lambda x: x + \".png\")\n",
    "train['diagnosis'] = train['diagnosis'].astype('str')\n",
    "train.head()"
   ]
  },
  {
   "cell_type": "code",
   "execution_count": 7,
   "metadata": {},
   "outputs": [
    {
     "name": "stderr",
     "output_type": "stream",
     "text": [
      "Using TensorFlow backend.\n"
     ]
    }
   ],
   "source": [
    "from keras.preprocessing.image import ImageDataGenerator\n",
    "from keras.layers import Dense, Dropout, GlobalAveragePooling2D, Input\n",
    "from keras.models import Model\n",
    "from keras.applications import densenet\n",
    "from keras.applications.densenet import preprocess_input"
   ]
  },
  {
   "cell_type": "code",
   "execution_count": 8,
   "metadata": {},
   "outputs": [],
   "source": [
    "from keras import applications\n",
    "base_model = applications.DenseNet201(weights=None,include_top=False)\n",
    "base_model.load_weights('../input/models-pretrained-weights/densenet201_weights_tf_dim_ordering_tf_kernels_notop.h5')"
   ]
  },
  {
   "cell_type": "code",
   "execution_count": 9,
   "metadata": {},
   "outputs": [],
   "source": [
    "from keras import regularizers\n",
    "from keras.layers import Dense,GlobalAveragePooling2D,Dropout\n",
    "x=base_model.output\n",
    "x=GlobalAveragePooling2D()(x)\n",
    "x=Dense(128)(x)\n",
    "x=Dropout(0.5)(x)\n",
    "preds=Dense(5,activation='softmax')(x)"
   ]
  },
  {
   "cell_type": "code",
   "execution_count": 10,
   "metadata": {},
   "outputs": [
    {
     "name": "stderr",
     "output_type": "stream",
     "text": [
      "/opt/conda/lib/python3.6/site-packages/ipykernel_launcher.py:1: UserWarning: Update your `Model` call to the Keras 2 API: `Model(outputs=Tensor(\"de..., inputs=Tensor(\"in...)`\n",
      "  \"\"\"Entry point for launching an IPython kernel.\n"
     ]
    }
   ],
   "source": [
    "model=Model(input=base_model.input,outputs=preds)"
   ]
  },
  {
   "cell_type": "code",
   "execution_count": 11,
   "metadata": {},
   "outputs": [],
   "source": [
    "from keras.optimizers import Adam\n",
    "\n",
    "model.compile(loss='categorical_crossentropy',optimizer=Adam(lr=0.0001),metrics=['accuracy'])"
   ]
  },
  {
   "cell_type": "code",
   "execution_count": 12,
   "metadata": {},
   "outputs": [],
   "source": [
    "nb_classes=5\n",
    "lbls=list(map(str,range(nb_classes)))\n",
    "batch_size=32\n",
    "img_size=224\n",
    "nb_epochs=30"
   ]
  },
  {
   "cell_type": "code",
   "execution_count": 13,
   "metadata": {},
   "outputs": [
    {
     "name": "stderr",
     "output_type": "stream",
     "text": [
      "/opt/conda/lib/python3.6/site-packages/keras_preprocessing/image/image_data_generator.py:341: UserWarning: This ImageDataGenerator specifies `zca_whitening` which overrides setting of`featurewise_std_normalization`.\n",
      "  warnings.warn('This ImageDataGenerator specifies '\n"
     ]
    }
   ],
   "source": [
    "train_datagen=ImageDataGenerator(rescale=1./255,\n",
    "                                featurewise_center=True,\n",
    "                                featurewise_std_normalization=True,\n",
    "                                zca_whitening=True,\n",
    "                                rotation_range=30,\n",
    "                                width_shift_range=0.2,\n",
    "                                height_shift_range=0.2,\n",
    "                                horizontal_flip=True,\n",
    "                                vertical_flip=True,\n",
    "                                validation_split=0.2,\n",
    "                                zoom_range=0.25)"
   ]
  },
  {
   "cell_type": "code",
   "execution_count": 14,
   "metadata": {},
   "outputs": [
    {
     "name": "stdout",
     "output_type": "stream",
     "text": [
      "Found 2930 validated image filenames belonging to 5 classes.\n",
      "Found 732 validated image filenames belonging to 5 classes.\n"
     ]
    }
   ],
   "source": [
    "train_generator=train_datagen.flow_from_dataframe(dataframe=train,\n",
    "                                                 directory='../input/aptos2019-blindness-detection/train_images/',\n",
    "                                                 x_col='id_code',\n",
    "                                                 y_col='diagnosis',\n",
    "                                                 batch_size=batch_size,\n",
    "                                                 shuffle=True,\n",
    "                                                 class_mode='categorical',\n",
    "                                                 classes=lbls,\n",
    "                                                 target_size=(img_size,img_size),\n",
    "                                                 subset='training')\n",
    "\n",
    "valid_generator=train_datagen.flow_from_dataframe(dataframe=train,\n",
    "                                                 directory='../input/aptos2019-blindness-detection/train_images/',\n",
    "                                                 x_col='id_code',\n",
    "                                                 y_col='diagnosis',\n",
    "                                                 batch_size=batch_size,\n",
    "                                                 shuffle=True,\n",
    "                                                 class_mode='categorical',\n",
    "                                                 classes=lbls,\n",
    "                                                 target_size=(img_size,img_size),\n",
    "                                                 subset='validation')"
   ]
  },
  {
   "cell_type": "code",
   "execution_count": 15,
   "metadata": {},
   "outputs": [],
   "source": [
    "#0    1805\n",
    "#2     999\n",
    "#1     370\n",
    "#4     295\n",
    "#3     193\n",
    "\n",
    "class_weights={0:0.85,1:0.95,2:0.85,3:1.1,4:1}"
   ]
  },
  {
   "cell_type": "code",
   "execution_count": 16,
   "metadata": {},
   "outputs": [
    {
     "name": "stdout",
     "output_type": "stream",
     "text": [
      "Epoch 1/30\n"
     ]
    },
    {
     "name": "stderr",
     "output_type": "stream",
     "text": [
      "/opt/conda/lib/python3.6/site-packages/keras_preprocessing/image/image_data_generator.py:716: UserWarning: This ImageDataGenerator specifies `featurewise_center`, but it hasn't been fit on any training data. Fit it first by calling `.fit(numpy_data)`.\n",
      "  warnings.warn('This ImageDataGenerator specifies '\n",
      "/opt/conda/lib/python3.6/site-packages/keras_preprocessing/image/image_data_generator.py:735: UserWarning: This ImageDataGenerator specifies `zca_whitening`, but it hasn't been fit on any training data. Fit it first by calling `.fit(numpy_data)`.\n",
      "  warnings.warn('This ImageDataGenerator specifies '\n"
     ]
    },
    {
     "name": "stdout",
     "output_type": "stream",
     "text": [
      "32/32 [==============================] - 265s 8s/step - loss: 1.0206 - acc: 0.6035 - val_loss: 0.8197 - val_acc: 0.7059\n",
      "\n",
      "Epoch 00001: val_loss improved from inf to 0.81967, saving model to model_weights.h5\n",
      "Epoch 2/30\n",
      "32/32 [==============================] - 176s 6s/step - loss: 0.7094 - acc: 0.7227 - val_loss: 0.8966 - val_acc: 0.6706\n",
      "\n",
      "Epoch 00002: val_loss did not improve from 0.81967\n",
      "Epoch 3/30\n",
      "32/32 [==============================] - 190s 6s/step - loss: 0.6353 - acc: 0.7416 - val_loss: 0.7091 - val_acc: 0.7343\n",
      "\n",
      "Epoch 00003: val_loss improved from 0.81967 to 0.70907, saving model to model_weights.h5\n",
      "Epoch 4/30\n",
      "32/32 [==============================] - 191s 6s/step - loss: 0.5414 - acc: 0.7793 - val_loss: 0.7561 - val_acc: 0.7078\n",
      "\n",
      "Epoch 00004: val_loss did not improve from 0.70907\n",
      "Epoch 5/30\n",
      "32/32 [==============================] - 196s 6s/step - loss: 0.6065 - acc: 0.7529 - val_loss: 0.7213 - val_acc: 0.7275\n",
      "\n",
      "Epoch 00005: val_loss did not improve from 0.70907\n",
      "Epoch 6/30\n",
      "32/32 [==============================] - 188s 6s/step - loss: 0.5679 - acc: 0.7721 - val_loss: 0.7558 - val_acc: 0.7057\n",
      "\n",
      "Epoch 00006: val_loss did not improve from 0.70907\n",
      "Epoch 7/30\n",
      "32/32 [==============================] - 193s 6s/step - loss: 0.4624 - acc: 0.8271 - val_loss: 0.7343 - val_acc: 0.7147\n",
      "\n",
      "Epoch 00007: val_loss did not improve from 0.70907\n",
      "Epoch 8/30\n",
      "32/32 [==============================] - 193s 6s/step - loss: 0.5126 - acc: 0.8193 - val_loss: 0.6375 - val_acc: 0.7628\n",
      "\n",
      "Epoch 00008: val_loss improved from 0.70907 to 0.63749, saving model to model_weights.h5\n",
      "Epoch 9/30\n",
      "32/32 [==============================] - 191s 6s/step - loss: 0.5112 - acc: 0.7982 - val_loss: 0.5718 - val_acc: 0.7814\n",
      "\n",
      "Epoch 00009: val_loss improved from 0.63749 to 0.57176, saving model to model_weights.h5\n",
      "Epoch 10/30\n",
      "32/32 [==============================] - 194s 6s/step - loss: 0.4449 - acc: 0.8057 - val_loss: 0.6107 - val_acc: 0.7500\n",
      "\n",
      "Epoch 00010: val_loss did not improve from 0.57176\n",
      "Epoch 11/30\n",
      "32/32 [==============================] - 195s 6s/step - loss: 0.4645 - acc: 0.8174 - val_loss: 0.6468 - val_acc: 0.7756\n",
      "\n",
      "Epoch 00011: val_loss did not improve from 0.57176\n",
      "Epoch 12/30\n",
      "32/32 [==============================] - 188s 6s/step - loss: 0.4363 - acc: 0.8197 - val_loss: 0.5954 - val_acc: 0.7755\n",
      "\n",
      "Epoch 00012: val_loss did not improve from 0.57176\n",
      "Epoch 13/30\n",
      "32/32 [==============================] - 192s 6s/step - loss: 0.4074 - acc: 0.8320 - val_loss: 0.5355 - val_acc: 0.8031\n",
      "\n",
      "Epoch 00013: val_loss improved from 0.57176 to 0.53553, saving model to model_weights.h5\n",
      "Epoch 14/30\n",
      "32/32 [==============================] - 195s 6s/step - loss: 0.4557 - acc: 0.8291 - val_loss: 0.5289 - val_acc: 0.7990\n",
      "\n",
      "Epoch 00014: val_loss improved from 0.53553 to 0.52890, saving model to model_weights.h5\n",
      "Epoch 15/30\n",
      "32/32 [==============================] - 191s 6s/step - loss: 0.4142 - acc: 0.8187 - val_loss: 0.5140 - val_acc: 0.8059\n",
      "\n",
      "Epoch 00015: val_loss improved from 0.52890 to 0.51396, saving model to model_weights.h5\n",
      "Epoch 16/30\n",
      "32/32 [==============================] - 194s 6s/step - loss: 0.4088 - acc: 0.8398 - val_loss: 0.6049 - val_acc: 0.7776\n",
      "\n",
      "Epoch 00016: val_loss did not improve from 0.51396\n",
      "Epoch 17/30\n",
      "32/32 [==============================] - 195s 6s/step - loss: 0.4379 - acc: 0.8213 - val_loss: 0.5068 - val_acc: 0.8147\n",
      "\n",
      "Epoch 00017: val_loss improved from 0.51396 to 0.50679, saving model to model_weights.h5\n",
      "Epoch 18/30\n",
      "32/32 [==============================] - 194s 6s/step - loss: 0.3810 - acc: 0.8451 - val_loss: 0.5501 - val_acc: 0.8100\n",
      "\n",
      "Epoch 00018: val_loss did not improve from 0.50679\n",
      "Epoch 19/30\n",
      "32/32 [==============================] - 197s 6s/step - loss: 0.4015 - acc: 0.8350 - val_loss: 0.6665 - val_acc: 0.7980\n",
      "\n",
      "Epoch 00019: val_loss did not improve from 0.50679\n",
      "Epoch 20/30\n",
      "32/32 [==============================] - 191s 6s/step - loss: 0.4264 - acc: 0.8379 - val_loss: 0.5749 - val_acc: 0.8010\n",
      "\n",
      "Epoch 00020: val_loss did not improve from 0.50679\n",
      "Epoch 21/30\n",
      "32/32 [==============================] - 198s 6s/step - loss: 0.4022 - acc: 0.8415 - val_loss: 0.5672 - val_acc: 0.7933\n",
      "\n",
      "Epoch 00021: val_loss did not improve from 0.50679\n",
      "Epoch 22/30\n",
      "32/32 [==============================] - 198s 6s/step - loss: 0.3727 - acc: 0.8516 - val_loss: 0.5399 - val_acc: 0.8000\n",
      "\n",
      "Epoch 00022: val_loss did not improve from 0.50679\n",
      "Epoch 23/30\n",
      "32/32 [==============================] - 188s 6s/step - loss: 0.3851 - acc: 0.8363 - val_loss: 0.5817 - val_acc: 0.7943\n",
      "\n",
      "Epoch 00023: val_loss did not improve from 0.50679\n",
      "Epoch 24/30\n",
      "32/32 [==============================] - 192s 6s/step - loss: 0.3446 - acc: 0.8623 - val_loss: 0.5692 - val_acc: 0.7961\n",
      "\n",
      "Epoch 00024: val_loss did not improve from 0.50679\n",
      "Epoch 25/30\n",
      "32/32 [==============================] - 196s 6s/step - loss: 0.3216 - acc: 0.8662 - val_loss: 0.5468 - val_acc: 0.8069\n",
      "\n",
      "Epoch 00025: val_loss did not improve from 0.50679\n",
      "Epoch 00025: early stopping\n"
     ]
    }
   ],
   "source": [
    "from keras.callbacks import EarlyStopping, ModelCheckpoint\n",
    "\n",
    "es=EarlyStopping(monitor='val_loss',mode='min',verbose=1,patience=8)\n",
    "mc=ModelCheckpoint('model_weights.h5',monitor='val_loss',save_best_only=True,mode='min',verbose=1)\n",
    "\n",
    "history=model.fit_generator(generator=train_generator,\n",
    "                           steps_per_epoch=32,\n",
    "                           epochs=nb_epochs,\n",
    "                           validation_data=valid_generator,\n",
    "                           validation_steps=32,\n",
    "                           callbacks=[es,mc], class_weight=class_weights)"
   ]
  },
  {
   "cell_type": "code",
   "execution_count": 17,
   "metadata": {},
   "outputs": [
    {
     "data": {
      "text/plain": [
       "<matplotlib.axes._subplots.AxesSubplot at 0x7f0385e8bef0>"
      ]
     },
     "execution_count": 17,
     "metadata": {},
     "output_type": "execute_result"
    },
    {
     "data": {
      "image/png": "[encoded data removed]",
      "text/plain": [
       "<Figure size 432x288 with 1 Axes>"
      ]
     },
     "metadata": {
      "needs_background": "light"
     },
     "output_type": "display_data"
    },
    {
     "data": {
      "image/png": "[encoded data removed]",
      "text/plain": [
       "<Figure size 432x288 with 1 Axes>"
      ]
     },
     "metadata": {
      "needs_background": "light"
     },
     "output_type": "display_data"
    }
   ],
   "source": [
    "    history_df=pd.DataFrame(history.history)\n",
    "    history_df[['loss','val_loss']].plot()\n",
    "    history_df[['acc','val_acc']].plot()"
   ]
  },
  {
   "cell_type": "code",
   "execution_count": 18,
   "metadata": {},
   "outputs": [
    {
     "name": "stdout",
     "output_type": "stream",
     "text": [
      "Found 3662 validated image filenames.\n"
     ]
    }
   ],
   "source": [
    "complete_datagen = ImageDataGenerator(rescale=1./255)\n",
    "complete_generator = complete_datagen.flow_from_dataframe(  \n",
    "        dataframe=train,\n",
    "        directory = \"../input/aptos2019-blindness-detection/train_images/\",\n",
    "        x_col=\"id_code\",\n",
    "        target_size=(img_size, img_size),\n",
    "        batch_size=1,\n",
    "        shuffle=False,\n",
    "        class_mode=None)\n",
    "\n",
    "STEP_SIZE_COMPLETE = complete_generator.n//complete_generator.batch_size\n",
    "train_preds = model.predict_generator(complete_generator, steps=STEP_SIZE_COMPLETE)\n",
    "train_preds = [np.argmax(pred) for pred in train_preds]"
   ]
  },
  {
   "cell_type": "code",
   "execution_count": 19,
   "metadata": {},
   "outputs": [
    {
     "data": {
      "image/png": "[encoded data removed]",
      "text/plain": [
       "<Figure size 1152x504 with 2 Axes>"
      ]
     },
     "metadata": {
      "needs_background": "light"
     },
     "output_type": "display_data"
    }
   ],
   "source": [
    "from sklearn.metrics import classification_report, confusion_matrix\n",
    "import seaborn as sns\n",
    "\n",
    "labels = ['0 - No DR', '1 - Mild', '2 - Moderate', '3 - Severe', '4 - Proliferative DR']\n",
    "cnf_matrix = confusion_matrix(train['diagnosis'].astype('int'), train_preds)\n",
    "cnf_matrix_norm = cnf_matrix.astype('float') / cnf_matrix.sum(axis=1)[:, np.newaxis]\n",
    "df_cm = pd.DataFrame(cnf_matrix_norm, index=labels, columns=labels)\n",
    "plt.figure(figsize=(16, 7))\n",
    "sns.heatmap(df_cm, annot=True, fmt='.2f', cmap=\"Blues\")\n",
    "plt.show()"
   ]
  },
  {
   "cell_type": "code",
   "execution_count": 20,
   "metadata": {},
   "outputs": [
    {
     "name": "stdout",
     "output_type": "stream",
     "text": [
      "Train Cohen Kappa score: 0.922\n"
     ]
    }
   ],
   "source": [
    "from sklearn.metrics import cohen_kappa_score\n",
    "\n",
    "print(\"Train Cohen Kappa score: %.3f\" % cohen_kappa_score(train_preds, train['diagnosis'].astype('int'), weights='quadratic'))"
   ]
  },
  {
   "cell_type": "code",
   "execution_count": 21,
   "metadata": {},
   "outputs": [
    {
     "name": "stdout",
     "output_type": "stream",
     "text": [
      "Found 1928 validated image filenames.\n"
     ]
    }
   ],
   "source": [
    "test_datagen = ImageDataGenerator(rescale=1./255)\n",
    "\n",
    "test_datagenerator = test_datagen.flow_from_dataframe(  \n",
    "        dataframe=test,\n",
    "        directory = \"../input/aptos2019-blindness-detection/test_images/\",\n",
    "        x_col=\"id_code\",\n",
    "        target_size=(img_size, img_size),\n",
    "        batch_size=1,\n",
    "        shuffle=False,\n",
    "        class_mode=None)\n",
    "\n",
    "test_datagenerator.reset()\n",
    "STEP_SIZE_TEST = test_datagenerator.n//test_datagenerator.batch_size\n",
    "preds = model.predict_generator(test_datagenerator, steps=STEP_SIZE_TEST)\n",
    "predictions = [np.argmax(pred) for pred in preds]"
   ]
  },
  {
   "cell_type": "code",
   "execution_count": 22,
   "metadata": {},
   "outputs": [
    {
     "data": {
      "text/html": [
       "<div>\n",
       "<style scoped>\n",
       "    .dataframe tbody tr th:only-of-type {\n",
       "        vertical-align: middle;\n",
       "    }\n",
       "\n",
       "    .dataframe tbody tr th {\n",
       "        vertical-align: top;\n",
       "    }\n",
       "\n",
       "    .dataframe thead th {\n",
       "        text-align: right;\n",
       "    }\n",
       "</style>\n",
       "<table border=\"1\" class=\"dataframe\">\n",
       "  <thead>\n",
       "    <tr style=\"text-align: right;\">\n",
       "      <th></th>\n",
       "      <th>id_code</th>\n",
       "      <th>diagnosis</th>\n",
       "    </tr>\n",
       "  </thead>\n",
       "  <tbody>\n",
       "    <tr>\n",
       "      <th>0</th>\n",
       "      <td>0005cfc8afb6</td>\n",
       "      <td>1</td>\n",
       "    </tr>\n",
       "    <tr>\n",
       "      <th>1</th>\n",
       "      <td>003f0afdcd15</td>\n",
       "      <td>3</td>\n",
       "    </tr>\n",
       "    <tr>\n",
       "      <th>2</th>\n",
       "      <td>006efc72b638</td>\n",
       "      <td>3</td>\n",
       "    </tr>\n",
       "    <tr>\n",
       "      <th>3</th>\n",
       "      <td>00836aaacf06</td>\n",
       "      <td>2</td>\n",
       "    </tr>\n",
       "    <tr>\n",
       "      <th>4</th>\n",
       "      <td>009245722fa4</td>\n",
       "      <td>2</td>\n",
       "    </tr>\n",
       "    <tr>\n",
       "      <th>5</th>\n",
       "      <td>009c019a7309</td>\n",
       "      <td>2</td>\n",
       "    </tr>\n",
       "    <tr>\n",
       "      <th>6</th>\n",
       "      <td>010d915e229a</td>\n",
       "      <td>3</td>\n",
       "    </tr>\n",
       "    <tr>\n",
       "      <th>7</th>\n",
       "      <td>0111b949947e</td>\n",
       "      <td>0</td>\n",
       "    </tr>\n",
       "    <tr>\n",
       "      <th>8</th>\n",
       "      <td>01499815e469</td>\n",
       "      <td>3</td>\n",
       "    </tr>\n",
       "    <tr>\n",
       "      <th>9</th>\n",
       "      <td>0167076e7089</td>\n",
       "      <td>0</td>\n",
       "    </tr>\n",
       "  </tbody>\n",
       "</table>\n",
       "</div>"
      ],
      "text/plain": [
       "        id_code  diagnosis\n",
       "0  0005cfc8afb6          1\n",
       "1  003f0afdcd15          3\n",
       "2  006efc72b638          3\n",
       "3  00836aaacf06          2\n",
       "4  009245722fa4          2\n",
       "5  009c019a7309          2\n",
       "6  010d915e229a          3\n",
       "7  0111b949947e          0\n",
       "8  01499815e469          3\n",
       "9  0167076e7089          0"
      ]
     },
     "execution_count": 22,
     "metadata": {},
     "output_type": "execute_result"
    }
   ],
   "source": [
    "filenames = test_datagenerator.filenames\n",
    "results = pd.DataFrame({'id_code':filenames, 'diagnosis':predictions})\n",
    "results['id_code'] = results['id_code'].map(lambda x: str(x)[:-4])\n",
    "results.to_csv('submission.csv',index=False)\n",
    "results.head(10)\n"
   ]
  },
  {
   "cell_type": "code",
   "execution_count": 23,
   "metadata": {},
   "outputs": [
    {
     "data": {
      "image/png": "[encoded data removed]",
      "text/plain": [
       "<Figure size 1008x626.4 with 1 Axes>"
      ]
     },
     "metadata": {
      "needs_background": "light"
     },
     "output_type": "display_data"
    }
   ],
   "source": [
    "f, ax = plt.subplots(figsize=(14, 8.7))\n",
    "ax = sns.countplot(x=\"diagnosis\", data=results, palette=\"GnBu_d\")\n",
    "sns.despine()\n",
    "plt.show()"
   ]
  },
  {
   "cell_type": "markdown",
   "metadata": {},
   "source": [
    "## Steps:\n",
    "\n",
    "1) The data is higly imbalance \n",
    "\n",
    "2) We resize the image size to 224*224\n",
    "\n",
    "3) We use the training data to generate new images with a little alteration in the images - Data Augmentation\n",
    "\n",
    "4) As the data is less and with low computational power, we will use pretrained weights - Densenet-201 to build model and add a layer to classify the data.\n",
    "\n",
    "5) Assigning the weights to each class as the data is imbalance.\n",
    "\n",
    "6) We use methods like Early stopping with validation score and modelcheckpoint to avoid overfitting of data\n",
    "\n",
    "8) Training the model with 30 epochs but the model stops at 25 epochs using Early Stopping.\n",
    "\n",
    "9) Plotting the loss and accuracy for both train and validation data. \n",
    "\n",
    "10) Confusion Matrix to see how the model learnt on train data. \n",
    "\n",
    "11) Prediction for test data using the model that is built."
   ]
  },
  {
   "cell_type": "markdown",
   "metadata": {},
   "source": [
    "# The Kappa Score on test data is 0.659"
   ]
  }
 ],
 "metadata": {
  "kernelspec": {
   "display_name": "Python 3",
   "language": "python",
   "name": "python3"
  },
  "language_info": {
   "codemirror_mode": {
    "name": "ipython",
    "version": 3
   },
   "file_extension": ".py",
   "mimetype": "text/x-python",
   "name": "python",
   "nbconvert_exporter": "python",
   "pygments_lexer": "ipython3",
   "version": "3.6.5"
  }
 },
 "nbformat": 4,
 "nbformat_minor": 1
}
